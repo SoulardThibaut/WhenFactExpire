{
 "cells": [
  {
   "cell_type": "code",
   "execution_count": 1,
   "metadata": {},
   "outputs": [],
   "source": [
    "import os"
   ]
  },
  {
   "cell_type": "code",
   "execution_count": 2,
   "metadata": {},
   "outputs": [],
   "source": [
    "def create_folder(directory:str) -> None:\n",
    "\tif not os.path.exists(directory):\n",
    "\t\tos.makedirs(directory)"
   ]
  },
  {
   "cell_type": "code",
   "execution_count": 3,
   "metadata": {},
   "outputs": [],
   "source": [
    "root = \"./../\"\n",
    "\n",
    "create_folder(f\"{root}Queries\")"
   ]
  },
  {
   "cell_type": "markdown",
   "metadata": {},
   "source": [
    "# Queries time information"
   ]
  },
  {
   "cell_type": "code",
   "execution_count": 4,
   "metadata": {},
   "outputs": [],
   "source": [
    "with open(f\"{root}Queries/query_timestamps.q\", \"w\", encoding=\"UTF-8\") as f_w:\n",
    "\tf_w.write(\"\"\"SELECT DISTINCT ?h ?r ?v ?point\n",
    "WHERE {\n",
    "        FILTER(strstarts(str(?r), \"http://www.wikidata.org/prop/P\"))\n",
    "        FILTER(strstarts(str(?statement), \"http://www.wikidata.org/entity/statement/\"))\n",
    "        ?h ?r ?statement.\n",
    "\n",
    "        FILTER(strstarts(str(?rs), \"http://www.wikidata.org/prop/statement/P\"))\n",
    "        ?statement ?rs ?v.\n",
    "\n",
    "        FILTER(datatype(?point) = <http://www.w3.org/2001/XMLSchema#dateTime>)\n",
    "        ?statement <http://www.wikidata.org/prop/qualifier/P585> ?point\n",
    "}\"\"\")"
   ]
  },
  {
   "cell_type": "code",
   "execution_count": 5,
   "metadata": {},
   "outputs": [],
   "source": [
    "with open(f\"{root}Queries/query_intervals.q\", \"w\", encoding=\"UTF-8\") as f_w:\n",
    "\tf_w.write(\"\"\"SELECT DISTINCT ?h ?r ?v ?start ?end\n",
    "WHERE {\n",
    "        FILTER(strstarts(str(?statement), \"http://www.wikidata.org/entity/statement/\"))\n",
    "        FILTER(strstarts(str(?rs), \"http://www.wikidata.org/prop/statement/P\"))\n",
    "        FILTER((strlen(str(?start))>0) || (strlen(str(?end))>0))\n",
    "        ?h ?r ?statement.\n",
    "        ?statement ?rs ?v.\n",
    "        OPTIONAL{\n",
    "                ?statement <http://www.wikidata.org/prop/qualifier/P580> ?start.\n",
    "                FILTER(datatype(?start) = <http://www.w3.org/2001/XMLSchema#dateTime>)\n",
    "        }\n",
    "        OPTIONAL{\n",
    "                ?statement <http://www.wikidata.org/prop/qualifier/P582> ?end.\n",
    "                FILTER(datatype(?end) = <http://www.w3.org/2001/XMLSchema#dateTime>)\n",
    "        }\n",
    "}\n",
    "\"\"\")"
   ]
  },
  {
   "cell_type": "markdown",
   "metadata": {},
   "source": [
    "# Class per entities retrieved"
   ]
  },
  {
   "cell_type": "code",
   "execution_count": 6,
   "metadata": {},
   "outputs": [],
   "source": [
    "entities = set()\n",
    "for file in [\"result_intervals.quintuplet\", \"result_timestamps.quad\"]:\n",
    "\twith open(f\"{root}Data/Raw/{file}\", \"r\", encoding=\"UTF-8\") as f_r:\n",
    "\t\tline = f_r.readline()\n",
    "\t\twhile line != \"\":\n",
    "\t\t\th, _, v = line.split(\"\\t\")[:3]\n",
    "\n",
    "\t\t\tentities.add(h[:-1].split(\"/\")[-1])\n",
    "\n",
    "\t\t\tiri_prefix = \"<http://www.wikidata.org/entity/Q\"\n",
    "\t\t\tif v[:len(iri_prefix)] == iri_prefix:\n",
    "\t\t\t\tentities.add(v[:-1].split(\"/\")[-1])\n",
    "\t\t\t\t\n",
    "\t\t\tline = f_r.readline()\n",
    "\n",
    "with open(f\"{root}Queries/query_classes_per_entities.q\", \"w\", encoding=\"UTF-8\") as f_w:\n",
    "\tf_w.write(\"\"\"\n",
    "PREFIX wd: <http://www.wikidata.org/entity/>\n",
    "PREFIX wdt: <http://www.wikidata.org/prop/direct/>\n",
    "\t\t   \n",
    "SELECT ?entity ?class\n",
    "WHERE {\n",
    "\tVALUES ?entity { wd:\"\"\")\n",
    "\tf_w.write(\" wd:\".join(list(entities)[:100]))\n",
    "\tf_w.write(\"\"\"}\n",
    "\t?entity wdt:P31 ?class.\n",
    "}\n",
    "\"\"\")"
   ]
  },
  {
   "cell_type": "markdown",
   "metadata": {},
   "source": [
    "# Hierarchy of classes "
   ]
  },
  {
   "cell_type": "code",
   "execution_count": 8,
   "metadata": {},
   "outputs": [],
   "source": [
    "with open(f\"{root}Queries/query_hierarchy_classes.q\", \"w\", encoding=\"UTF-8\") as f_w:\n",
    "\n",
    "\tf_w.write(\"\"\"\n",
    "\tSELECT ?sub ?up\n",
    "\tWHERE {\n",
    "\t\t\t?sub <http://www.wikidata.org/prop/direct/P279> ?up.\n",
    "\t}\n",
    "\t\"\"\")"
   ]
  }
 ],
 "metadata": {
  "kernelspec": {
   "display_name": "MichaelConda",
   "language": "python",
   "name": "python3"
  },
  "language_info": {
   "codemirror_mode": {
    "name": "ipython",
    "version": 3
   },
   "file_extension": ".py",
   "mimetype": "text/x-python",
   "name": "python",
   "nbconvert_exporter": "python",
   "pygments_lexer": "ipython3",
   "version": "3.12.4"
  }
 },
 "nbformat": 4,
 "nbformat_minor": 2
}
